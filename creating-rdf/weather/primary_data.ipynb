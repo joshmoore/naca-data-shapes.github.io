{
 "cells": [
  {
   "cell_type": "markdown",
   "metadata": {
    "pycharm": {
     "name": "#%%\n"
    }
   },
   "source": [
    "# Example (synthetic) data sets\n",
    "The purpose of this effort to create a schema for weather data related to one location, Lamesa, TX, mentioned in the Legacy Cotton Dataset. \n",
    "\n",
    "In this chapter we will inspect the provided dataset and prepare it to be converted into linked data. As described earlier, linked data is data that follows a linked-data format consisting of triples where the individual parts consists of either values or identifiers (IRIs) pointing to concept definitions. \n",
    "\n",
    "The proces of converting data to linked data is rather straightforward and can be summed up as follows:\n",
    "1. Inspect the data\n",
    "2. Clean the data headers\n",
    "3. Align the data with common controlled vocabularies or ontologies\n",
    "4. Design linked-data shapes using the IRIs from the controlled vocabularies and ontologies\n",
    "5. Transform the data into RDF\n",
    "\n",
    "In this chapter we will focus on the first two steps."
   ]
  },
  {
   "cell_type": "markdown",
   "metadata": {},
   "source": [
    "## Dataset 2 on Weather\n",
    "The first dataset is a  csv file (Dawson3242890.csv).\n",
    "It contains weather data for Lamesa, TX for March1- October 30, 2010."
   ]
  },
  {
   "cell_type": "code",
   "execution_count": 1,
   "metadata": {
    "pycharm": {
     "name": "#%%\n"
    },
    "tags": [
     "remove-input"
    ]
   },
   "outputs": [
    {
     "data": {
      "text/plain": "         STATION                 NAME        DATE  DAPR  MDPR  PRCP  SNOW  \\\n0    USC00415013  LAMESA 1 SSE, TX US  2010-03-01   NaN   NaN  0.44   0.0   \n1    USC00415013  LAMESA 1 SSE, TX US  2010-03-02   NaN   NaN  0.02   0.0   \n2    USC00415013  LAMESA 1 SSE, TX US  2010-03-03   NaN   NaN  0.00   0.0   \n3    USC00415013  LAMESA 1 SSE, TX US  2010-03-04   NaN   NaN  0.00   0.0   \n4    USC00415013  LAMESA 1 SSE, TX US  2010-03-05   NaN   NaN  0.00   0.0   \n..           ...                  ...         ...   ...   ...   ...   ...   \n240  USC00415013  LAMESA 1 SSE, TX US  2010-10-27   NaN   NaN  0.00   0.0   \n241  USC00415013  LAMESA 1 SSE, TX US  2010-10-28   NaN   NaN  0.00   0.0   \n242  USC00415013  LAMESA 1 SSE, TX US  2010-10-29   NaN   NaN  0.00   0.0   \n243  USC00415013  LAMESA 1 SSE, TX US  2010-10-30   NaN   NaN  0.00   0.0   \n244  USC00415013  LAMESA 1 SSE, TX US  2010-10-31   NaN   NaN  0.00   0.0   \n\n     SNWD  TMAX  TMIN  TOBS  WT01  WT11  \n0     0.0    60  36.0  36.0   NaN   NaN  \n1     0.0    41  27.0  27.0   NaN   NaN  \n2     0.0    59  27.0  33.0   NaN   NaN  \n3     0.0    68  33.0  35.0   NaN   NaN  \n4     0.0    71  33.0  43.0   NaN   NaN  \n..    ...   ...   ...   ...   ...   ...  \n240   0.0    74  40.0  47.0   NaN   NaN  \n241   0.0    76  40.0  40.0   NaN   NaN  \n242   0.0    67  32.0  32.0   NaN   NaN  \n243   0.0    73  32.0  45.0   NaN   NaN  \n244   0.0    90  39.0  45.0   NaN   NaN  \n\n[245 rows x 13 columns]",
      "text/html": "<div>\n<style scoped>\n    .dataframe tbody tr th:only-of-type {\n        vertical-align: middle;\n    }\n\n    .dataframe tbody tr th {\n        vertical-align: top;\n    }\n\n    .dataframe thead th {\n        text-align: right;\n    }\n</style>\n<table border=\"1\" class=\"dataframe\">\n  <thead>\n    <tr style=\"text-align: right;\">\n      <th></th>\n      <th>STATION</th>\n      <th>NAME</th>\n      <th>DATE</th>\n      <th>DAPR</th>\n      <th>MDPR</th>\n      <th>PRCP</th>\n      <th>SNOW</th>\n      <th>SNWD</th>\n      <th>TMAX</th>\n      <th>TMIN</th>\n      <th>TOBS</th>\n      <th>WT01</th>\n      <th>WT11</th>\n    </tr>\n  </thead>\n  <tbody>\n    <tr>\n      <th>0</th>\n      <td>USC00415013</td>\n      <td>LAMESA 1 SSE, TX US</td>\n      <td>2010-03-01</td>\n      <td>NaN</td>\n      <td>NaN</td>\n      <td>0.44</td>\n      <td>0.0</td>\n      <td>0.0</td>\n      <td>60</td>\n      <td>36.0</td>\n      <td>36.0</td>\n      <td>NaN</td>\n      <td>NaN</td>\n    </tr>\n    <tr>\n      <th>1</th>\n      <td>USC00415013</td>\n      <td>LAMESA 1 SSE, TX US</td>\n      <td>2010-03-02</td>\n      <td>NaN</td>\n      <td>NaN</td>\n      <td>0.02</td>\n      <td>0.0</td>\n      <td>0.0</td>\n      <td>41</td>\n      <td>27.0</td>\n      <td>27.0</td>\n      <td>NaN</td>\n      <td>NaN</td>\n    </tr>\n    <tr>\n      <th>2</th>\n      <td>USC00415013</td>\n      <td>LAMESA 1 SSE, TX US</td>\n      <td>2010-03-03</td>\n      <td>NaN</td>\n      <td>NaN</td>\n      <td>0.00</td>\n      <td>0.0</td>\n      <td>0.0</td>\n      <td>59</td>\n      <td>27.0</td>\n      <td>33.0</td>\n      <td>NaN</td>\n      <td>NaN</td>\n    </tr>\n    <tr>\n      <th>3</th>\n      <td>USC00415013</td>\n      <td>LAMESA 1 SSE, TX US</td>\n      <td>2010-03-04</td>\n      <td>NaN</td>\n      <td>NaN</td>\n      <td>0.00</td>\n      <td>0.0</td>\n      <td>0.0</td>\n      <td>68</td>\n      <td>33.0</td>\n      <td>35.0</td>\n      <td>NaN</td>\n      <td>NaN</td>\n    </tr>\n    <tr>\n      <th>4</th>\n      <td>USC00415013</td>\n      <td>LAMESA 1 SSE, TX US</td>\n      <td>2010-03-05</td>\n      <td>NaN</td>\n      <td>NaN</td>\n      <td>0.00</td>\n      <td>0.0</td>\n      <td>0.0</td>\n      <td>71</td>\n      <td>33.0</td>\n      <td>43.0</td>\n      <td>NaN</td>\n      <td>NaN</td>\n    </tr>\n    <tr>\n      <th>...</th>\n      <td>...</td>\n      <td>...</td>\n      <td>...</td>\n      <td>...</td>\n      <td>...</td>\n      <td>...</td>\n      <td>...</td>\n      <td>...</td>\n      <td>...</td>\n      <td>...</td>\n      <td>...</td>\n      <td>...</td>\n      <td>...</td>\n    </tr>\n    <tr>\n      <th>240</th>\n      <td>USC00415013</td>\n      <td>LAMESA 1 SSE, TX US</td>\n      <td>2010-10-27</td>\n      <td>NaN</td>\n      <td>NaN</td>\n      <td>0.00</td>\n      <td>0.0</td>\n      <td>0.0</td>\n      <td>74</td>\n      <td>40.0</td>\n      <td>47.0</td>\n      <td>NaN</td>\n      <td>NaN</td>\n    </tr>\n    <tr>\n      <th>241</th>\n      <td>USC00415013</td>\n      <td>LAMESA 1 SSE, TX US</td>\n      <td>2010-10-28</td>\n      <td>NaN</td>\n      <td>NaN</td>\n      <td>0.00</td>\n      <td>0.0</td>\n      <td>0.0</td>\n      <td>76</td>\n      <td>40.0</td>\n      <td>40.0</td>\n      <td>NaN</td>\n      <td>NaN</td>\n    </tr>\n    <tr>\n      <th>242</th>\n      <td>USC00415013</td>\n      <td>LAMESA 1 SSE, TX US</td>\n      <td>2010-10-29</td>\n      <td>NaN</td>\n      <td>NaN</td>\n      <td>0.00</td>\n      <td>0.0</td>\n      <td>0.0</td>\n      <td>67</td>\n      <td>32.0</td>\n      <td>32.0</td>\n      <td>NaN</td>\n      <td>NaN</td>\n    </tr>\n    <tr>\n      <th>243</th>\n      <td>USC00415013</td>\n      <td>LAMESA 1 SSE, TX US</td>\n      <td>2010-10-30</td>\n      <td>NaN</td>\n      <td>NaN</td>\n      <td>0.00</td>\n      <td>0.0</td>\n      <td>0.0</td>\n      <td>73</td>\n      <td>32.0</td>\n      <td>45.0</td>\n      <td>NaN</td>\n      <td>NaN</td>\n    </tr>\n    <tr>\n      <th>244</th>\n      <td>USC00415013</td>\n      <td>LAMESA 1 SSE, TX US</td>\n      <td>2010-10-31</td>\n      <td>NaN</td>\n      <td>NaN</td>\n      <td>0.00</td>\n      <td>0.0</td>\n      <td>0.0</td>\n      <td>90</td>\n      <td>39.0</td>\n      <td>45.0</td>\n      <td>NaN</td>\n      <td>NaN</td>\n    </tr>\n  </tbody>\n</table>\n<p>245 rows × 13 columns</p>\n</div>"
     },
     "execution_count": 1,
     "metadata": {},
     "output_type": "execute_result"
    }
   ],
   "source": [
    "import pandas as pd\n",
    "weather = pd.read_csv(\"data/Dawson3242890.csv\",index_col=False)\n",
    "weather"
   ]
  },
  {
   "cell_type": "code",
   "execution_count": 4,
   "metadata": {
    "tags": [
     "remove-input"
    ]
   },
   "outputs": [
    {
     "name": "stdout",
     "output_type": "stream",
     "text": [
      "<class 'pandas.core.frame.DataFrame'>\n",
      "RangeIndex: 43474 entries, 0 to 43473\n",
      "Data columns (total 40 columns):\n",
      " #   Column              Non-Null Count  Dtype  \n",
      "---  ------              --------------  -----  \n",
      " 0   OBJECTID            43474 non-null  int64  \n",
      " 1   LocationName        43474 non-null  object \n",
      " 2   LatLong             43474 non-null  object \n",
      " 3   Latitude            43474 non-null  float64\n",
      " 4   Longitude           43474 non-null  float64\n",
      " 5   City                29623 non-null  object \n",
      " 6   County              43474 non-null  object \n",
      " 7   State               43474 non-null  object \n",
      " 8   Name                43474 non-null  object \n",
      " 9   TestType            43474 non-null  object \n",
      " 10  EntryNumber         43474 non-null  int64  \n",
      " 11  Brand               43474 non-null  object \n",
      " 12  Trait               43473 non-null  object \n",
      " 13  Product             43474 non-null  object \n",
      " 14  Soil                32971 non-null  object \n",
      " 15  Tillage             32971 non-null  object \n",
      " 16  PlantingDate        11914 non-null  float64\n",
      " 17  HarvestDate         11743 non-null  object \n",
      " 18  ValuePerac          43474 non-null  float64\n",
      " 19  SeedingRatePerAcre  836 non-null    float64\n",
      " 20  PercentBollOpened   1235 non-null   float64\n",
      " 21  StormTolerance      595 non-null    float64\n",
      " 22  Yield               43474 non-null  int64  \n",
      " 23  Elongation          11341 non-null  float64\n",
      " 24  HVIColor            43474 non-null  int64  \n",
      " 25  Leaf                43474 non-null  int64  \n",
      " 26  Length              38837 non-null  float64\n",
      " 27  LintFraction        42391 non-null  float64\n",
      " 28  LoanValue           38761 non-null  float64\n",
      " 29  Mic                 39394 non-null  float64\n",
      " 30  Strength            39364 non-null  float64\n",
      " 31  UI                  39330 non-null  float64\n",
      " 32  Turnout             42391 non-null  float64\n",
      " 33  GrossIncome         43474 non-null  float64\n",
      " 34  Irrigated           43474 non-null  object \n",
      " 35  IrrigationType      17429 non-null  object \n",
      " 36  Year                43474 non-null  int64  \n",
      " 37  ZIP Code            32971 non-null  float64\n",
      " 38  Test Result ID      43474 non-null  int64  \n",
      " 39  Test ID             43474 non-null  int64  \n",
      "dtypes: float64(17), int64(8), object(15)\n",
      "memory usage: 13.3+ MB\n"
     ]
    }
   ],
   "source": [
    "weather.info()"
   ]
  },
  {
   "cell_type": "markdown",
   "metadata": {},
   "source": [
    "This dataset contains 26 fields of various datatypes. In one of the next steps this field names will be alligned with various controlled vocabularies and ontologies. For this to be succesful the fieldnames need to be as expressive as it can be. "
   ]
  },
  {
   "cell_type": "code",
   "execution_count": 5,
   "metadata": {
    "pycharm": {
     "name": "#%%\n"
    },
    "tags": [
     "remove-input"
    ]
   },
   "outputs": [
    {
     "data": {
      "text/plain": "<pandas.io.formats.style.Styler at 0x12fe96dc0>",
      "text/html": "<style type=\"text/css\">\n</style>\n<table id=\"T_6cd93\">\n  <thead>\n    <tr>\n      <th class=\"blank level0\" >&nbsp;</th>\n      <th id=\"T_6cd93_level0_col0\" class=\"col_heading level0 col0\" >original_field</th>\n      <th id=\"T_6cd93_level0_col1\" class=\"col_heading level0 col1\" >prepared_field</th>\n      <th id=\"T_6cd93_level0_col2\" class=\"col_heading level0 col2\" >change</th>\n    </tr>\n  </thead>\n  <tbody>\n    <tr>\n      <th id=\"T_6cd93_level0_row0\" class=\"row_heading level0 row0\" >0</th>\n      <td id=\"T_6cd93_row0_col0\" class=\"data row0 col0\" >OBJECTID</td>\n      <td id=\"T_6cd93_row0_col1\" class=\"data row0 col1\" >OBJECTID</td>\n      <td id=\"T_6cd93_row0_col2\" class=\"data row0 col2\" ></td>\n    </tr>\n    <tr>\n      <th id=\"T_6cd93_level0_row1\" class=\"row_heading level0 row1\" >1</th>\n      <td id=\"T_6cd93_row1_col0\" class=\"data row1 col0\" >LocationName</td>\n      <td id=\"T_6cd93_row1_col1\" class=\"data row1 col1\" >LocationName</td>\n      <td id=\"T_6cd93_row1_col2\" class=\"data row1 col2\" ></td>\n    </tr>\n    <tr>\n      <th id=\"T_6cd93_level0_row2\" class=\"row_heading level0 row2\" >2</th>\n      <td id=\"T_6cd93_row2_col0\" class=\"data row2 col0\" >LatLong</td>\n      <td id=\"T_6cd93_row2_col1\" class=\"data row2 col1\" >LatLong</td>\n      <td id=\"T_6cd93_row2_col2\" class=\"data row2 col2\" ></td>\n    </tr>\n    <tr>\n      <th id=\"T_6cd93_level0_row3\" class=\"row_heading level0 row3\" >3</th>\n      <td id=\"T_6cd93_row3_col0\" class=\"data row3 col0\" >Latitude</td>\n      <td id=\"T_6cd93_row3_col1\" class=\"data row3 col1\" >Latitude</td>\n      <td id=\"T_6cd93_row3_col2\" class=\"data row3 col2\" ></td>\n    </tr>\n    <tr>\n      <th id=\"T_6cd93_level0_row4\" class=\"row_heading level0 row4\" >4</th>\n      <td id=\"T_6cd93_row4_col0\" class=\"data row4 col0\" >Longitude</td>\n      <td id=\"T_6cd93_row4_col1\" class=\"data row4 col1\" >Longitude</td>\n      <td id=\"T_6cd93_row4_col2\" class=\"data row4 col2\" ></td>\n    </tr>\n    <tr>\n      <th id=\"T_6cd93_level0_row5\" class=\"row_heading level0 row5\" >5</th>\n      <td id=\"T_6cd93_row5_col0\" class=\"data row5 col0\" >City</td>\n      <td id=\"T_6cd93_row5_col1\" class=\"data row5 col1\" >City</td>\n      <td id=\"T_6cd93_row5_col2\" class=\"data row5 col2\" ></td>\n    </tr>\n    <tr>\n      <th id=\"T_6cd93_level0_row6\" class=\"row_heading level0 row6\" >6</th>\n      <td id=\"T_6cd93_row6_col0\" class=\"data row6 col0\" >County</td>\n      <td id=\"T_6cd93_row6_col1\" class=\"data row6 col1\" >County</td>\n      <td id=\"T_6cd93_row6_col2\" class=\"data row6 col2\" ></td>\n    </tr>\n    <tr>\n      <th id=\"T_6cd93_level0_row7\" class=\"row_heading level0 row7\" >7</th>\n      <td id=\"T_6cd93_row7_col0\" class=\"data row7 col0\" >State</td>\n      <td id=\"T_6cd93_row7_col1\" class=\"data row7 col1\" >State</td>\n      <td id=\"T_6cd93_row7_col2\" class=\"data row7 col2\" ></td>\n    </tr>\n    <tr>\n      <th id=\"T_6cd93_level0_row8\" class=\"row_heading level0 row8\" >8</th>\n      <td id=\"T_6cd93_row8_col0\" class=\"data row8 col0\" >Name</td>\n      <td id=\"T_6cd93_row8_col1\" class=\"data row8 col1\" >Name</td>\n      <td id=\"T_6cd93_row8_col2\" class=\"data row8 col2\" ></td>\n    </tr>\n    <tr>\n      <th id=\"T_6cd93_level0_row9\" class=\"row_heading level0 row9\" >9</th>\n      <td id=\"T_6cd93_row9_col0\" class=\"data row9 col0\" >TestType</td>\n      <td id=\"T_6cd93_row9_col1\" class=\"data row9 col1\" >TestType</td>\n      <td id=\"T_6cd93_row9_col2\" class=\"data row9 col2\" ></td>\n    </tr>\n    <tr>\n      <th id=\"T_6cd93_level0_row10\" class=\"row_heading level0 row10\" >10</th>\n      <td id=\"T_6cd93_row10_col0\" class=\"data row10 col0\" >EntryNumber</td>\n      <td id=\"T_6cd93_row10_col1\" class=\"data row10 col1\" >EntryNumber</td>\n      <td id=\"T_6cd93_row10_col2\" class=\"data row10 col2\" ></td>\n    </tr>\n    <tr>\n      <th id=\"T_6cd93_level0_row11\" class=\"row_heading level0 row11\" >11</th>\n      <td id=\"T_6cd93_row11_col0\" class=\"data row11 col0\" >Brand</td>\n      <td id=\"T_6cd93_row11_col1\" class=\"data row11 col1\" >Brand</td>\n      <td id=\"T_6cd93_row11_col2\" class=\"data row11 col2\" ></td>\n    </tr>\n    <tr>\n      <th id=\"T_6cd93_level0_row12\" class=\"row_heading level0 row12\" >12</th>\n      <td id=\"T_6cd93_row12_col0\" class=\"data row12 col0\" >Trait</td>\n      <td id=\"T_6cd93_row12_col1\" class=\"data row12 col1\" >Trait</td>\n      <td id=\"T_6cd93_row12_col2\" class=\"data row12 col2\" ></td>\n    </tr>\n    <tr>\n      <th id=\"T_6cd93_level0_row13\" class=\"row_heading level0 row13\" >13</th>\n      <td id=\"T_6cd93_row13_col0\" class=\"data row13 col0\" >Product</td>\n      <td id=\"T_6cd93_row13_col1\" class=\"data row13 col1\" >Product</td>\n      <td id=\"T_6cd93_row13_col2\" class=\"data row13 col2\" ></td>\n    </tr>\n    <tr>\n      <th id=\"T_6cd93_level0_row14\" class=\"row_heading level0 row14\" >14</th>\n      <td id=\"T_6cd93_row14_col0\" class=\"data row14 col0\" >Soil</td>\n      <td id=\"T_6cd93_row14_col1\" class=\"data row14 col1\" >Soil</td>\n      <td id=\"T_6cd93_row14_col2\" class=\"data row14 col2\" ></td>\n    </tr>\n    <tr>\n      <th id=\"T_6cd93_level0_row15\" class=\"row_heading level0 row15\" >15</th>\n      <td id=\"T_6cd93_row15_col0\" class=\"data row15 col0\" >Tillage</td>\n      <td id=\"T_6cd93_row15_col1\" class=\"data row15 col1\" >Tillage</td>\n      <td id=\"T_6cd93_row15_col2\" class=\"data row15 col2\" ></td>\n    </tr>\n    <tr>\n      <th id=\"T_6cd93_level0_row16\" class=\"row_heading level0 row16\" >16</th>\n      <td id=\"T_6cd93_row16_col0\" class=\"data row16 col0\" >PlantingDate</td>\n      <td id=\"T_6cd93_row16_col1\" class=\"data row16 col1\" >PlantingDate</td>\n      <td id=\"T_6cd93_row16_col2\" class=\"data row16 col2\" ></td>\n    </tr>\n    <tr>\n      <th id=\"T_6cd93_level0_row17\" class=\"row_heading level0 row17\" >17</th>\n      <td id=\"T_6cd93_row17_col0\" class=\"data row17 col0\" >HarvestDate</td>\n      <td id=\"T_6cd93_row17_col1\" class=\"data row17 col1\" >HarvestDate</td>\n      <td id=\"T_6cd93_row17_col2\" class=\"data row17 col2\" ></td>\n    </tr>\n    <tr>\n      <th id=\"T_6cd93_level0_row18\" class=\"row_heading level0 row18\" >18</th>\n      <td id=\"T_6cd93_row18_col0\" class=\"data row18 col0\" >ValuePerac</td>\n      <td id=\"T_6cd93_row18_col1\" class=\"data row18 col1\" >ValuePerac</td>\n      <td id=\"T_6cd93_row18_col2\" class=\"data row18 col2\" ></td>\n    </tr>\n    <tr>\n      <th id=\"T_6cd93_level0_row19\" class=\"row_heading level0 row19\" >19</th>\n      <td id=\"T_6cd93_row19_col0\" class=\"data row19 col0\" >SeedingRatePerAcre</td>\n      <td id=\"T_6cd93_row19_col1\" class=\"data row19 col1\" >SeedingRatePerAcre</td>\n      <td id=\"T_6cd93_row19_col2\" class=\"data row19 col2\" ></td>\n    </tr>\n    <tr>\n      <th id=\"T_6cd93_level0_row20\" class=\"row_heading level0 row20\" >20</th>\n      <td id=\"T_6cd93_row20_col0\" class=\"data row20 col0\" >PercentBollOpened</td>\n      <td id=\"T_6cd93_row20_col1\" class=\"data row20 col1\" >PercentBollOpened</td>\n      <td id=\"T_6cd93_row20_col2\" class=\"data row20 col2\" ></td>\n    </tr>\n    <tr>\n      <th id=\"T_6cd93_level0_row21\" class=\"row_heading level0 row21\" >21</th>\n      <td id=\"T_6cd93_row21_col0\" class=\"data row21 col0\" >StormTolerance</td>\n      <td id=\"T_6cd93_row21_col1\" class=\"data row21 col1\" >StormTolerance</td>\n      <td id=\"T_6cd93_row21_col2\" class=\"data row21 col2\" ></td>\n    </tr>\n    <tr>\n      <th id=\"T_6cd93_level0_row22\" class=\"row_heading level0 row22\" >22</th>\n      <td id=\"T_6cd93_row22_col0\" class=\"data row22 col0\" >Yield</td>\n      <td id=\"T_6cd93_row22_col1\" class=\"data row22 col1\" >Yield</td>\n      <td id=\"T_6cd93_row22_col2\" class=\"data row22 col2\" ></td>\n    </tr>\n    <tr>\n      <th id=\"T_6cd93_level0_row23\" class=\"row_heading level0 row23\" >23</th>\n      <td id=\"T_6cd93_row23_col0\" class=\"data row23 col0\" >Elongation</td>\n      <td id=\"T_6cd93_row23_col1\" class=\"data row23 col1\" >Elongation</td>\n      <td id=\"T_6cd93_row23_col2\" class=\"data row23 col2\" ></td>\n    </tr>\n    <tr>\n      <th id=\"T_6cd93_level0_row24\" class=\"row_heading level0 row24\" >24</th>\n      <td id=\"T_6cd93_row24_col0\" class=\"data row24 col0\" >HVIColor</td>\n      <td id=\"T_6cd93_row24_col1\" class=\"data row24 col1\" >HVIColor</td>\n      <td id=\"T_6cd93_row24_col2\" class=\"data row24 col2\" ></td>\n    </tr>\n    <tr>\n      <th id=\"T_6cd93_level0_row25\" class=\"row_heading level0 row25\" >25</th>\n      <td id=\"T_6cd93_row25_col0\" class=\"data row25 col0\" >Leaf</td>\n      <td id=\"T_6cd93_row25_col1\" class=\"data row25 col1\" >Leaf</td>\n      <td id=\"T_6cd93_row25_col2\" class=\"data row25 col2\" ></td>\n    </tr>\n    <tr>\n      <th id=\"T_6cd93_level0_row26\" class=\"row_heading level0 row26\" >26</th>\n      <td id=\"T_6cd93_row26_col0\" class=\"data row26 col0\" >Length</td>\n      <td id=\"T_6cd93_row26_col1\" class=\"data row26 col1\" >Length</td>\n      <td id=\"T_6cd93_row26_col2\" class=\"data row26 col2\" ></td>\n    </tr>\n    <tr>\n      <th id=\"T_6cd93_level0_row27\" class=\"row_heading level0 row27\" >27</th>\n      <td id=\"T_6cd93_row27_col0\" class=\"data row27 col0\" >LintFraction</td>\n      <td id=\"T_6cd93_row27_col1\" class=\"data row27 col1\" >LintFraction</td>\n      <td id=\"T_6cd93_row27_col2\" class=\"data row27 col2\" ></td>\n    </tr>\n    <tr>\n      <th id=\"T_6cd93_level0_row28\" class=\"row_heading level0 row28\" >28</th>\n      <td id=\"T_6cd93_row28_col0\" class=\"data row28 col0\" >LoanValue</td>\n      <td id=\"T_6cd93_row28_col1\" class=\"data row28 col1\" >LoanValue</td>\n      <td id=\"T_6cd93_row28_col2\" class=\"data row28 col2\" ></td>\n    </tr>\n    <tr>\n      <th id=\"T_6cd93_level0_row29\" class=\"row_heading level0 row29\" >29</th>\n      <td id=\"T_6cd93_row29_col0\" class=\"data row29 col0\" >Mic</td>\n      <td id=\"T_6cd93_row29_col1\" class=\"data row29 col1\" >Mic</td>\n      <td id=\"T_6cd93_row29_col2\" class=\"data row29 col2\" ></td>\n    </tr>\n    <tr>\n      <th id=\"T_6cd93_level0_row30\" class=\"row_heading level0 row30\" >30</th>\n      <td id=\"T_6cd93_row30_col0\" class=\"data row30 col0\" >Strength</td>\n      <td id=\"T_6cd93_row30_col1\" class=\"data row30 col1\" >Strength</td>\n      <td id=\"T_6cd93_row30_col2\" class=\"data row30 col2\" ></td>\n    </tr>\n    <tr>\n      <th id=\"T_6cd93_level0_row31\" class=\"row_heading level0 row31\" >31</th>\n      <td id=\"T_6cd93_row31_col0\" class=\"data row31 col0\" >UI</td>\n      <td id=\"T_6cd93_row31_col1\" class=\"data row31 col1\" >UI</td>\n      <td id=\"T_6cd93_row31_col2\" class=\"data row31 col2\" ></td>\n    </tr>\n    <tr>\n      <th id=\"T_6cd93_level0_row32\" class=\"row_heading level0 row32\" >32</th>\n      <td id=\"T_6cd93_row32_col0\" class=\"data row32 col0\" >Turnout</td>\n      <td id=\"T_6cd93_row32_col1\" class=\"data row32 col1\" >Turnout</td>\n      <td id=\"T_6cd93_row32_col2\" class=\"data row32 col2\" ></td>\n    </tr>\n    <tr>\n      <th id=\"T_6cd93_level0_row33\" class=\"row_heading level0 row33\" >33</th>\n      <td id=\"T_6cd93_row33_col0\" class=\"data row33 col0\" >GrossIncome</td>\n      <td id=\"T_6cd93_row33_col1\" class=\"data row33 col1\" >GrossIncome</td>\n      <td id=\"T_6cd93_row33_col2\" class=\"data row33 col2\" ></td>\n    </tr>\n    <tr>\n      <th id=\"T_6cd93_level0_row34\" class=\"row_heading level0 row34\" >34</th>\n      <td id=\"T_6cd93_row34_col0\" class=\"data row34 col0\" >Irrigated</td>\n      <td id=\"T_6cd93_row34_col1\" class=\"data row34 col1\" >Irrigated</td>\n      <td id=\"T_6cd93_row34_col2\" class=\"data row34 col2\" ></td>\n    </tr>\n    <tr>\n      <th id=\"T_6cd93_level0_row35\" class=\"row_heading level0 row35\" >35</th>\n      <td id=\"T_6cd93_row35_col0\" class=\"data row35 col0\" >IrrigationType</td>\n      <td id=\"T_6cd93_row35_col1\" class=\"data row35 col1\" >IrrigationType</td>\n      <td id=\"T_6cd93_row35_col2\" class=\"data row35 col2\" ></td>\n    </tr>\n    <tr>\n      <th id=\"T_6cd93_level0_row36\" class=\"row_heading level0 row36\" >36</th>\n      <td id=\"T_6cd93_row36_col0\" class=\"data row36 col0\" >Year</td>\n      <td id=\"T_6cd93_row36_col1\" class=\"data row36 col1\" >Year</td>\n      <td id=\"T_6cd93_row36_col2\" class=\"data row36 col2\" ></td>\n    </tr>\n    <tr>\n      <th id=\"T_6cd93_level0_row37\" class=\"row_heading level0 row37\" >37</th>\n      <td id=\"T_6cd93_row37_col0\" class=\"data row37 col0\" >ZIP Code</td>\n      <td id=\"T_6cd93_row37_col1\" class=\"data row37 col1\" >ZIP Code</td>\n      <td id=\"T_6cd93_row37_col2\" class=\"data row37 col2\" ></td>\n    </tr>\n    <tr>\n      <th id=\"T_6cd93_level0_row38\" class=\"row_heading level0 row38\" >38</th>\n      <td id=\"T_6cd93_row38_col0\" class=\"data row38 col0\" >Test Result ID</td>\n      <td id=\"T_6cd93_row38_col1\" class=\"data row38 col1\" >Test Result ID</td>\n      <td id=\"T_6cd93_row38_col2\" class=\"data row38 col2\" ></td>\n    </tr>\n    <tr>\n      <th id=\"T_6cd93_level0_row39\" class=\"row_heading level0 row39\" >39</th>\n      <td id=\"T_6cd93_row39_col0\" class=\"data row39 col0\" >Test ID</td>\n      <td id=\"T_6cd93_row39_col1\" class=\"data row39 col1\" >Test ID</td>\n      <td id=\"T_6cd93_row39_col2\" class=\"data row39 col2\" ></td>\n    </tr>\n  </tbody>\n</table>\n"
     },
     "execution_count": 5,
     "metadata": {},
     "output_type": "execute_result"
    }
   ],
   "source": [
    "def show_difference(row):\n",
    "    highlight = 'background-color: yellow;'\n",
    "    default = ''\n",
    "    if row['original_field'] != row['prepared_field']:\n",
    "        return [default, highlight]\n",
    "    else:\n",
    "        return [default, default]\n",
    "    \n",
    "def strip_check(row):\n",
    "    if row['original_field'] != row['prepared_field']:\n",
    "        row[\"change\"] = \"remove trailing spaces\"\n",
    "        \n",
    "def abbreviations(row):\n",
    "    if row['original_field'] != row['prepared_field']:\n",
    "        if row[\"change\"] == \"\":\n",
    "            row[\"change\"] = \"resolved abbreviations\"\n",
    "            \n",
    "def removechoices(row):\n",
    "    if row['original_field'] != row['prepared_field']:\n",
    "        if row[\"change\"] == \"\":\n",
    "            row[\"change\"] = \"removed choices\"\n",
    "\n",
    "df = pd.DataFrame(columns=[\"original_field\", \"prepared_field\", \"change\"])\n",
    "for column in gdb1.columns: \n",
    "    df.loc[len(df.index)] = [column, column.strip(), \"\"]\n",
    "    \n",
    "df.apply(strip_check, axis=1)\n",
    "    \n",
    "df['prepared_field'] = df['prepared_field'].str.replace('adj','adjuvant')\n",
    "df['prepared_field'] = df['prepared_field'].str.replace('months OS','months overall survival')\n",
    "df['prepared_field'] = df['prepared_field'].str.replace('PP','pseudo-progression')\n",
    "df['prepared_field'] = df['prepared_field'].str.replace('PFS','progression-free survival')\n",
    "\n",
    "df.apply(abbreviations, axis=1)\n",
    "         \n",
    "df['prepared_field'] = df['prepared_field'].str.replace('(1=yes 0=no)','', regex=False)\n",
    "df.apply(removechoices, axis=1)\n",
    " \n",
    "df.style.set_properties(**{'text-align': 'left'})\n",
    "df.style.apply(show_difference, subset=['original_field', 'prepared_field'], axis=1)"
   ]
  },
  {
   "cell_type": "markdown",
   "metadata": {
    "pycharm": {
     "name": "#%% md\n"
    }
   },
   "source": [
    "In this chapter we have reviewed and possibly cleaned the source data. In the next chapter these terms will be use to identify IRIs that unambiguously point to the definitions of these field labels. In this stage of the project we need to be a bit creative here. Some crucial information such as conditionals or units have been removed, but these are needed in the semantic models that will be derived.\n",
    "\n",
    "Moving forward the project should design a common tabular format that, next to field labels, also captures these conditionals, units and cardinality. \n",
    "\n",
    "Eventually this book should contain a chapter that describes this tabular format. \n",
    "\n",
    "Eventually the steps described in this chapter will be redundant. Moving forward performers in the different PDAs, ideally will build on a predefined tabular format where the field names are selected from the provided codebook. \n",
    "\n",
    "## NALT shapes and  codebook\n",
    "The DT codebook will be a listing of selected field names. Data curators will be able to select field names from this codebook. Non-existing field names can be requested. \n"
   ]
  }
 ],
 "metadata": {
  "celltoolbar": "Tags",
  "kernelspec": {
   "display_name": "Python 3 (ipykernel)",
   "language": "python",
   "name": "python3"
  },
  "language_info": {
   "codemirror_mode": {
    "name": "ipython",
    "version": 3
   },
   "file_extension": ".py",
   "mimetype": "text/x-python",
   "name": "python",
   "nbconvert_exporter": "python",
   "pygments_lexer": "ipython3",
   "version": "3.8.9"
  }
 },
 "nbformat": 4,
 "nbformat_minor": 1
}