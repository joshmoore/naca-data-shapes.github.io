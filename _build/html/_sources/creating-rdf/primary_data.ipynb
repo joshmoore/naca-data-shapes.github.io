{
 "cells": [
  {
   "cell_type": "markdown",
   "metadata": {
    "pycharm": {
     "name": "#%%\n"
    }
   },
   "source": [
    "# Example (synthetic) data sets\n",
    "For the purpose of this effort to create a common data shape on Glioblastoma, two synthetic data sets were provided. Synthetic datasets contain fabricated data that is represtable of actual data on the topic. \n",
    "\n",
    "In this chapter we will inspect the provided datasets and prepare them to by converted into linked data. As described earlier, linked data is data that follows a linked-data format consisting of triples where the individual parts consists of either values or identifiers (IRIs) pointing to concept definitions. \n",
    "\n",
    "The proces of converting data to linked data is rather straightforwards and can be summed up as follows:\n",
    "1. Inspect the data\n",
    "2. Clean the data headers\n",
    "3. Align the data with common controlled vocabularies or ontologies\n",
    "4. Design linked-data shapes using the IRIs from the controlled vocabularies and ontologies\n",
    "5. Transform the data into RDF\n",
    "\n",
    "In this chapter we will focus on the first two steps."
   ]
  },
  {
   "cell_type": "markdown",
   "metadata": {},
   "source": [
    "## Dataset 1 on Cotton\n",
    "The first dataset is a provided csv file (Legacy_Cotton_VT_data.csv) ## TODO add a link.\n",
    "It contains legacy data on cotton harvests."
   ]
  },
  {
   "cell_type": "code",
   "execution_count": 2,
   "metadata": {
    "pycharm": {
     "name": "#%%\n"
    },
    "tags": [
     "remove-input"
    ]
   },
   "outputs": [
    {
     "name": "stderr",
     "output_type": "stream",
     "text": [
      "/var/folders/85/6rr6j2113qx4d9synl4rnc9r0000gn/T/ipykernel_25698/3566679482.py:2: ParserWarning: Length of header or names does not match length of data. This leads to a loss of data with index_col=False.\n",
      "  gdb1 = pd.read_csv(\"data/Legacy_Cotton_VT_data.csv\",index_col=False)\n"
     ]
    },
    {
     "data": {
      "text/plain": "       OBJECTID LocationName             LatLong  Latitude  Longitude    City  \\\n0             1      Ac Drip   32.7457 -101.9396   32.7457  -101.9396  Lamesa   \n1             2      Ac Drip   32.7457 -101.9396   32.7457  -101.9396  Lamesa   \n2             3      Ac Drip   32.7457 -101.9396   32.7457  -101.9396  Lamesa   \n3             4      Ac Drip   32.7457 -101.9396   32.7457  -101.9396  Lamesa   \n4             5      Ac Drip   32.7457 -101.9396   32.7457  -101.9396  Lamesa   \n...         ...          ...                 ...       ...        ...     ...   \n43469     43470  Yuma County  32.8257 -113.52519   32.8257  -113.5252     NaN   \n43470     43471  Yuma County  32.8257 -113.52519   32.8257  -113.5252     NaN   \n43471     43472  Yuma County  32.8257 -113.52519   32.8257  -113.5252     NaN   \n43472     43473  Yuma County  32.8257 -113.52519   32.8257  -113.5252     NaN   \n43473     43474  Yuma County  32.8257 -113.52519   32.8257  -113.5252     NaN   \n\n       County    State             Name TestType  ...  Strength    UI Turnout  \\\n0      Dawson    Texas  OVT - Irrigated      OVT  ...      29.3  82.0    25.8   \n1      Dawson    Texas  OVT - Irrigated      OVT  ...      28.1  81.2    23.8   \n2      Dawson    Texas  OVT - Irrigated      OVT  ...      26.0  80.1    24.0   \n3      Dawson    Texas  OVT - Irrigated      OVT  ...      27.8  81.8    24.2   \n4      Dawson    Texas  OVT - Irrigated      OVT  ...      27.2  81.4    27.9   \n...       ...      ...              ...      ...  ...       ...   ...     ...   \n43469    Yuma  Arizona  OVT - Irrigated      OVT  ...      27.5  82.8    33.1   \n43470    Yuma  Arizona  OVT - Irrigated      OVT  ...      28.6  82.4    34.8   \n43471    Yuma  Arizona  OVT - Irrigated      OVT  ...      28.3  82.8    32.4   \n43472    Yuma  Arizona  OVT - Irrigated      OVT  ...      28.2  83.2    29.6   \n43473    Yuma  Arizona  OVT - Irrigated      OVT  ...      30.0  82.3    33.1   \n\n      GrossIncome Irrigated IrrigationType  Year ZIP Code  Test Result ID  \\\n0         796.496    YesIrr   NotSpecified  2008  79331.0           46899   \n1         705.159    YesIrr   NotSpecified  2008  79331.0           46900   \n2         884.780    YesIrr   NotSpecified  2008  79331.0           46901   \n3         733.869    YesIrr   NotSpecified  2008  79331.0           46902   \n4         972.725    YesIrr   NotSpecified  2008  79331.0           46903   \n...           ...       ...            ...   ...      ...             ...   \n43469     950.982    YesIrr   NotSpecified  2008  85333.0           30074   \n43470     922.315    YesIrr   NotSpecified  2008  85333.0           30075   \n43471     817.002    YesIrr   NotSpecified  2008  85333.0           30076   \n43472     816.542    YesIrr   NotSpecified  2008  85333.0           30077   \n43473     775.964    YesIrr   NotSpecified  2008  85333.0           30078   \n\n       Test ID  \n0         3126  \n1         3126  \n2         3126  \n3         3126  \n4         3126  \n...        ...  \n43469     2196  \n43470     2196  \n43471     2196  \n43472     2196  \n43473     2196  \n\n[43474 rows x 40 columns]",
      "text/html": "<div>\n<style scoped>\n    .dataframe tbody tr th:only-of-type {\n        vertical-align: middle;\n    }\n\n    .dataframe tbody tr th {\n        vertical-align: top;\n    }\n\n    .dataframe thead th {\n        text-align: right;\n    }\n</style>\n<table border=\"1\" class=\"dataframe\">\n  <thead>\n    <tr style=\"text-align: right;\">\n      <th></th>\n      <th>OBJECTID</th>\n      <th>LocationName</th>\n      <th>LatLong</th>\n      <th>Latitude</th>\n      <th>Longitude</th>\n      <th>City</th>\n      <th>County</th>\n      <th>State</th>\n      <th>Name</th>\n      <th>TestType</th>\n      <th>...</th>\n      <th>Strength</th>\n      <th>UI</th>\n      <th>Turnout</th>\n      <th>GrossIncome</th>\n      <th>Irrigated</th>\n      <th>IrrigationType</th>\n      <th>Year</th>\n      <th>ZIP Code</th>\n      <th>Test Result ID</th>\n      <th>Test ID</th>\n    </tr>\n  </thead>\n  <tbody>\n    <tr>\n      <th>0</th>\n      <td>1</td>\n      <td>Ac Drip</td>\n      <td>32.7457 -101.9396</td>\n      <td>32.7457</td>\n      <td>-101.9396</td>\n      <td>Lamesa</td>\n      <td>Dawson</td>\n      <td>Texas</td>\n      <td>OVT - Irrigated</td>\n      <td>OVT</td>\n      <td>...</td>\n      <td>29.3</td>\n      <td>82.0</td>\n      <td>25.8</td>\n      <td>796.496</td>\n      <td>YesIrr</td>\n      <td>NotSpecified</td>\n      <td>2008</td>\n      <td>79331.0</td>\n      <td>46899</td>\n      <td>3126</td>\n    </tr>\n    <tr>\n      <th>1</th>\n      <td>2</td>\n      <td>Ac Drip</td>\n      <td>32.7457 -101.9396</td>\n      <td>32.7457</td>\n      <td>-101.9396</td>\n      <td>Lamesa</td>\n      <td>Dawson</td>\n      <td>Texas</td>\n      <td>OVT - Irrigated</td>\n      <td>OVT</td>\n      <td>...</td>\n      <td>28.1</td>\n      <td>81.2</td>\n      <td>23.8</td>\n      <td>705.159</td>\n      <td>YesIrr</td>\n      <td>NotSpecified</td>\n      <td>2008</td>\n      <td>79331.0</td>\n      <td>46900</td>\n      <td>3126</td>\n    </tr>\n    <tr>\n      <th>2</th>\n      <td>3</td>\n      <td>Ac Drip</td>\n      <td>32.7457 -101.9396</td>\n      <td>32.7457</td>\n      <td>-101.9396</td>\n      <td>Lamesa</td>\n      <td>Dawson</td>\n      <td>Texas</td>\n      <td>OVT - Irrigated</td>\n      <td>OVT</td>\n      <td>...</td>\n      <td>26.0</td>\n      <td>80.1</td>\n      <td>24.0</td>\n      <td>884.780</td>\n      <td>YesIrr</td>\n      <td>NotSpecified</td>\n      <td>2008</td>\n      <td>79331.0</td>\n      <td>46901</td>\n      <td>3126</td>\n    </tr>\n    <tr>\n      <th>3</th>\n      <td>4</td>\n      <td>Ac Drip</td>\n      <td>32.7457 -101.9396</td>\n      <td>32.7457</td>\n      <td>-101.9396</td>\n      <td>Lamesa</td>\n      <td>Dawson</td>\n      <td>Texas</td>\n      <td>OVT - Irrigated</td>\n      <td>OVT</td>\n      <td>...</td>\n      <td>27.8</td>\n      <td>81.8</td>\n      <td>24.2</td>\n      <td>733.869</td>\n      <td>YesIrr</td>\n      <td>NotSpecified</td>\n      <td>2008</td>\n      <td>79331.0</td>\n      <td>46902</td>\n      <td>3126</td>\n    </tr>\n    <tr>\n      <th>4</th>\n      <td>5</td>\n      <td>Ac Drip</td>\n      <td>32.7457 -101.9396</td>\n      <td>32.7457</td>\n      <td>-101.9396</td>\n      <td>Lamesa</td>\n      <td>Dawson</td>\n      <td>Texas</td>\n      <td>OVT - Irrigated</td>\n      <td>OVT</td>\n      <td>...</td>\n      <td>27.2</td>\n      <td>81.4</td>\n      <td>27.9</td>\n      <td>972.725</td>\n      <td>YesIrr</td>\n      <td>NotSpecified</td>\n      <td>2008</td>\n      <td>79331.0</td>\n      <td>46903</td>\n      <td>3126</td>\n    </tr>\n    <tr>\n      <th>...</th>\n      <td>...</td>\n      <td>...</td>\n      <td>...</td>\n      <td>...</td>\n      <td>...</td>\n      <td>...</td>\n      <td>...</td>\n      <td>...</td>\n      <td>...</td>\n      <td>...</td>\n      <td>...</td>\n      <td>...</td>\n      <td>...</td>\n      <td>...</td>\n      <td>...</td>\n      <td>...</td>\n      <td>...</td>\n      <td>...</td>\n      <td>...</td>\n      <td>...</td>\n      <td>...</td>\n    </tr>\n    <tr>\n      <th>43469</th>\n      <td>43470</td>\n      <td>Yuma County</td>\n      <td>32.8257 -113.52519</td>\n      <td>32.8257</td>\n      <td>-113.5252</td>\n      <td>NaN</td>\n      <td>Yuma</td>\n      <td>Arizona</td>\n      <td>OVT - Irrigated</td>\n      <td>OVT</td>\n      <td>...</td>\n      <td>27.5</td>\n      <td>82.8</td>\n      <td>33.1</td>\n      <td>950.982</td>\n      <td>YesIrr</td>\n      <td>NotSpecified</td>\n      <td>2008</td>\n      <td>85333.0</td>\n      <td>30074</td>\n      <td>2196</td>\n    </tr>\n    <tr>\n      <th>43470</th>\n      <td>43471</td>\n      <td>Yuma County</td>\n      <td>32.8257 -113.52519</td>\n      <td>32.8257</td>\n      <td>-113.5252</td>\n      <td>NaN</td>\n      <td>Yuma</td>\n      <td>Arizona</td>\n      <td>OVT - Irrigated</td>\n      <td>OVT</td>\n      <td>...</td>\n      <td>28.6</td>\n      <td>82.4</td>\n      <td>34.8</td>\n      <td>922.315</td>\n      <td>YesIrr</td>\n      <td>NotSpecified</td>\n      <td>2008</td>\n      <td>85333.0</td>\n      <td>30075</td>\n      <td>2196</td>\n    </tr>\n    <tr>\n      <th>43471</th>\n      <td>43472</td>\n      <td>Yuma County</td>\n      <td>32.8257 -113.52519</td>\n      <td>32.8257</td>\n      <td>-113.5252</td>\n      <td>NaN</td>\n      <td>Yuma</td>\n      <td>Arizona</td>\n      <td>OVT - Irrigated</td>\n      <td>OVT</td>\n      <td>...</td>\n      <td>28.3</td>\n      <td>82.8</td>\n      <td>32.4</td>\n      <td>817.002</td>\n      <td>YesIrr</td>\n      <td>NotSpecified</td>\n      <td>2008</td>\n      <td>85333.0</td>\n      <td>30076</td>\n      <td>2196</td>\n    </tr>\n    <tr>\n      <th>43472</th>\n      <td>43473</td>\n      <td>Yuma County</td>\n      <td>32.8257 -113.52519</td>\n      <td>32.8257</td>\n      <td>-113.5252</td>\n      <td>NaN</td>\n      <td>Yuma</td>\n      <td>Arizona</td>\n      <td>OVT - Irrigated</td>\n      <td>OVT</td>\n      <td>...</td>\n      <td>28.2</td>\n      <td>83.2</td>\n      <td>29.6</td>\n      <td>816.542</td>\n      <td>YesIrr</td>\n      <td>NotSpecified</td>\n      <td>2008</td>\n      <td>85333.0</td>\n      <td>30077</td>\n      <td>2196</td>\n    </tr>\n    <tr>\n      <th>43473</th>\n      <td>43474</td>\n      <td>Yuma County</td>\n      <td>32.8257 -113.52519</td>\n      <td>32.8257</td>\n      <td>-113.5252</td>\n      <td>NaN</td>\n      <td>Yuma</td>\n      <td>Arizona</td>\n      <td>OVT - Irrigated</td>\n      <td>OVT</td>\n      <td>...</td>\n      <td>30.0</td>\n      <td>82.3</td>\n      <td>33.1</td>\n      <td>775.964</td>\n      <td>YesIrr</td>\n      <td>NotSpecified</td>\n      <td>2008</td>\n      <td>85333.0</td>\n      <td>30078</td>\n      <td>2196</td>\n    </tr>\n  </tbody>\n</table>\n<p>43474 rows × 40 columns</p>\n</div>"
     },
     "execution_count": 2,
     "metadata": {},
     "output_type": "execute_result"
    }
   ],
   "source": [
    "import pandas as pd\n",
    "gdb1 = pd.read_csv(\"data/Legacy_Cotton_VT_data.csv\",index_col=False)\n",
    "gdb1"
   ]
  },
  {
   "cell_type": "code",
   "execution_count": 5,
   "outputs": [
    {
     "data": {
      "text/plain": "{0.25,\n 0.375,\n nan,\n nan,\n nan,\n nan,\n nan,\n nan,\n nan,\n nan,\n nan,\n nan,\n nan,\n nan,\n nan,\n nan,\n nan,\n nan,\n nan,\n nan,\n nan,\n nan,\n nan,\n nan,\n nan,\n nan,\n 0.218,\n 0.436,\n 0.311,\n 0.343,\n 0.468,\n nan,\n nan,\n nan,\n nan,\n nan,\n nan,\n nan,\n nan,\n nan,\n nan,\n nan,\n nan,\n nan,\n nan,\n nan,\n nan,\n nan,\n nan,\n nan,\n nan,\n 0.404,\n 0.279,\n 0.247,\n 0.372,\n 0.497,\n 0.561,\n 0.529,\n 0.215,\n nan,\n nan,\n nan,\n nan,\n nan,\n nan,\n nan,\n 0.34,\n 0.465,\n 0.308,\n 0.433,\n nan,\n nan,\n nan,\n nan,\n nan,\n nan,\n nan,\n nan,\n nan,\n nan,\n nan,\n nan,\n nan,\n nan,\n nan,\n nan,\n nan,\n nan,\n nan,\n nan,\n 0.244,\n 0.369,\n 0.494,\n 0.558,\n 0.276,\n 0.401,\n nan,\n nan,\n nan,\n nan,\n nan,\n nan,\n nan,\n nan,\n nan,\n nan,\n 0.212,\n nan,\n nan,\n nan,\n nan,\n nan,\n nan,\n nan,\n nan,\n nan,\n nan,\n nan,\n nan,\n nan,\n nan,\n nan,\n nan,\n nan,\n nan,\n nan,\n nan,\n 0.18,\n 0.43,\n 0.305,\n 0.337,\n 0.462,\n nan,\n nan,\n nan,\n nan,\n nan,\n nan,\n nan,\n nan,\n nan,\n nan,\n 0.273,\n 0.523,\n 0.398,\n 0.241,\n 0.366,\n 0.491,\n 0.555,\n nan,\n nan,\n nan,\n nan,\n nan,\n nan,\n nan,\n nan,\n nan,\n nan,\n nan,\n nan,\n nan,\n nan,\n nan,\n nan,\n nan,\n nan,\n nan,\n nan,\n 0.209,\n nan,\n nan,\n nan,\n nan,\n nan,\n nan,\n nan,\n nan,\n nan,\n nan,\n nan,\n nan,\n nan,\n nan,\n nan,\n nan,\n nan,\n nan,\n nan,\n nan,\n 0.459,\n 0.334,\n 0.427,\n 0.302,\n nan,\n nan,\n nan,\n nan,\n nan,\n nan,\n nan,\n nan,\n nan,\n nan,\n nan,\n nan,\n nan,\n nan,\n nan,\n nan,\n nan,\n nan,\n nan,\n nan,\n 0.27,\n 0.395,\n 1.924,\n 0.238,\n 0.363,\n 0.488,\n 1.741,\n 2.241,\n 1.892,\n 0.552,\n 0.206,\n nan,\n nan,\n nan,\n nan,\n nan,\n nan,\n nan,\n nan,\n nan,\n nan,\n nan,\n nan,\n nan,\n nan,\n nan,\n nan,\n nan,\n nan,\n nan,\n nan,\n 0.456,\n 0.331,\n 0.299,\n 0.424,\n nan,\n nan,\n nan,\n nan,\n nan,\n nan,\n nan,\n nan,\n nan,\n nan,\n 0.392,\n 0.267,\n 0.36,\n 0.235,\n 0.485,\n 0.549,\n nan,\n nan,\n nan,\n nan,\n nan,\n nan,\n nan,\n nan,\n nan,\n nan,\n nan,\n nan,\n nan,\n nan,\n nan,\n nan,\n nan,\n nan,\n nan,\n nan,\n 0.453,\n 0.328,\n 0.296,\n 0.421,\n 0.203,\n nan,\n nan,\n nan,\n nan,\n nan,\n nan,\n nan,\n nan,\n nan,\n nan,\n 0.546,\n 0.264,\n 0.389,\n 0.514,\n 0.357,\n 0.482,\n 0.232,\n nan,\n nan,\n nan,\n nan,\n nan,\n nan,\n nan,\n nan,\n nan,\n nan,\n 0.45,\n 0.325,\n 0.2,\n 0.293,\n 0.418,\n nan,\n nan,\n nan,\n nan,\n nan,\n nan,\n nan,\n nan,\n nan,\n nan,\n nan,\n nan,\n nan,\n nan,\n nan,\n nan,\n nan,\n nan,\n nan,\n nan,\n 0.543,\n 0.511,\n 0.386,\n 0.261,\n 0.354,\n 0.479,\n 0.229,\n nan,\n nan,\n nan,\n nan,\n nan,\n nan,\n nan,\n nan,\n nan,\n nan,\n 0.447,\n 0.322,\n 0.29,\n 0.415,\n nan,\n nan,\n nan,\n nan,\n nan,\n nan,\n nan,\n nan,\n nan,\n nan,\n nan,\n nan,\n nan,\n nan,\n nan,\n nan,\n nan,\n nan,\n nan,\n nan,\n nan,\n nan,\n nan,\n nan,\n nan,\n nan,\n nan,\n nan,\n nan,\n 0.258,\n 0.351,\n 0.476,\n 1.755,\n 0.54,\n 0.569,\n 0.383,\n 0.508,\n 0.226,\n nan,\n nan,\n nan,\n nan,\n nan,\n nan,\n nan,\n nan,\n nan,\n nan,\n 0.287,\n 0.412,\n 0.444,\n 0.319,\n 0.194,\n nan,\n nan,\n nan,\n nan,\n nan,\n nan,\n nan,\n nan,\n nan,\n nan,\n nan,\n nan,\n nan,\n nan,\n nan,\n nan,\n nan,\n nan,\n nan,\n nan,\n 0.255,\n 0.38,\n 0.505,\n 0.348,\n 0.473,\n 0.537,\n 0.566,\n nan,\n nan,\n nan,\n nan,\n nan,\n nan,\n nan,\n nan,\n nan,\n nan,\n nan,\n nan,\n 0.223,\n 0.441,\n 0.316,\n 0.284,\n 0.409,\n nan,\n nan,\n nan,\n nan,\n nan,\n nan,\n nan,\n nan,\n nan,\n nan,\n 0.252,\n 0.345,\n 0.47,\n 0.563,\n 0.377,\n 0.502,\n nan,\n nan,\n nan,\n nan,\n nan,\n nan,\n nan,\n nan,\n nan,\n nan,\n 0.22,\n nan,\n nan,\n 0.313,\n nan,\n nan,\n nan,\n nan,\n nan,\n nan,\n nan,\n 0.438,\n 0.249,\n 0.374,\n 0.499,\n 0.281,\n 0.406,\n 0.217,\n nan,\n nan,\n nan,\n nan,\n nan,\n nan,\n nan,\n nan,\n nan,\n nan,\n nan,\n nan,\n nan,\n nan,\n nan,\n nan,\n nan,\n nan,\n nan,\n nan,\n 0.31,\n 0.185,\n 0.435,\n 0.342,\n 0.467,\n nan,\n nan,\n nan,\n nan,\n nan,\n nan,\n nan,\n nan,\n nan,\n nan,\n nan,\n nan,\n nan,\n nan,\n nan,\n nan,\n nan,\n nan,\n nan,\n nan,\n nan,\n nan,\n nan,\n nan,\n nan,\n nan,\n nan,\n 0.371,\n 0.496,\n 1.871,\n 0.246,\n 0.278,\n 0.403,\n 0.528,\n 0.56,\n nan,\n nan,\n nan,\n nan,\n nan,\n nan,\n nan,\n nan,\n nan,\n nan,\n 0.214,\n nan,\n nan,\n nan,\n nan,\n nan,\n nan,\n nan,\n nan,\n nan,\n nan,\n nan,\n nan,\n nan,\n nan,\n nan,\n nan,\n nan,\n nan,\n nan,\n nan,\n 0.432,\n 0.307,\n 0.339,\n 0.464,\n nan,\n nan,\n nan,\n nan,\n nan,\n nan,\n nan,\n nan,\n nan,\n nan,\n 0.557,\n 0.243,\n 0.368,\n 0.493,\n 0.275,\n 0.4,\n 0.525,\n nan,\n nan,\n nan,\n nan,\n nan,\n nan,\n nan,\n nan,\n nan,\n nan,\n nan,\n nan,\n nan,\n nan,\n nan,\n nan,\n nan,\n nan,\n nan,\n nan,\n nan,\n nan,\n nan,\n nan,\n nan,\n nan,\n nan,\n nan,\n nan,\n nan,\n 0.211,\n nan,\n nan,\n nan,\n nan,\n nan,\n nan,\n nan,\n nan,\n nan,\n nan,\n 0.304,\n 0.429,\n 0.336,\n 0.461,\n nan,\n nan,\n nan,\n nan,\n nan,\n nan,\n nan,\n nan,\n nan,\n nan,\n 0.365,\n 0.49,\n 0.24,\n 0.272,\n 0.397,\n 0.522,\n 0.208,\n nan,\n nan,\n nan,\n nan,\n nan,\n nan,\n nan,\n nan,\n nan,\n nan,\n 0.301,\n 0.426,\n 0.458,\n 0.333,\n 0.269,\n 0.394,\n 0.237,\n 0.487,\n 0.362,\n 0.205,\n nan,\n nan,\n nan,\n nan,\n nan,\n nan,\n nan,\n nan,\n nan,\n nan,\n nan,\n nan,\n nan,\n nan,\n nan,\n nan,\n nan,\n nan,\n nan,\n nan,\n nan,\n nan,\n nan,\n nan,\n nan,\n nan,\n nan,\n nan,\n nan,\n nan,\n 0.455,\n 0.33,\n 0.423,\n 0.298,\n nan,\n nan,\n nan,\n nan,\n nan,\n nan,\n nan,\n nan,\n nan,\n nan,\n 0.251,\n 0.376,\n 0.501,\n nan,\n nan,\n nan,\n nan,\n nan,\n nan,\n nan,\n nan,\n nan,\n nan,\n 0.266,\n 0.484,\n 0.577,\n 2.231,\n 0.391,\n 0.359,\n 2.013,\n 0.548,\n 0.516,\n 0.234,\n nan,\n nan,\n nan,\n nan,\n nan,\n nan,\n nan,\n nan,\n nan,\n nan,\n nan,\n nan,\n nan,\n nan,\n nan,\n nan,\n nan,\n nan,\n nan,\n nan,\n nan,\n nan,\n nan,\n 0.42,\n 0.295,\n 0.452,\n 0.327,\n 0.17,\n nan,\n nan,\n nan,\n nan,\n nan,\n nan,\n nan,\n nan,\n nan,\n nan,\n 0.545,\n 0.356,\n 0.574,\n 0.263,\n 0.388,\n 0.481,\n 0.231,\n nan,\n nan,\n nan,\n nan,\n nan,\n nan,\n nan,\n nan,\n nan,\n nan,\n 0.449,\n 0.292,\n 0.417,\n 0.324,\n 0.199,\n nan,\n nan,\n nan,\n nan,\n nan,\n nan,\n nan,\n nan,\n 0.353,\n 0.26,\n 0.385,\n 1.914,\n 0.571,\n 0.51,\n 0.478,\n nan,\n nan,\n nan,\n nan,\n nan,\n nan,\n nan,\n nan,\n nan,\n nan,\n nan,\n nan,\n nan,\n nan,\n nan,\n nan,\n nan,\n nan,\n nan,\n nan,\n nan,\n nan,\n nan,\n nan,\n nan,\n 0.228,\n nan,\n nan,\n nan,\n nan,\n nan,\n nan,\n nan,\n nan,\n nan,\n nan,\n nan,\n nan,\n nan,\n nan,\n 0.289,\n 0.414,\n 0.446,\n 0.321,\n 0.196,\n nan,\n nan,\n nan,\n nan,\n nan,\n nan,\n nan,\n nan,\n nan,\n nan,\n nan,\n nan,\n nan,\n nan,\n nan,\n nan,\n nan,\n nan,\n nan,\n nan,\n nan,\n nan,\n nan,\n nan,\n nan,\n nan,\n nan,\n nan,\n nan,\n nan,\n 0.539,\n 0.35,\n 0.475,\n 0.257,\n 0.382,\n 0.507,\n 2.224,\n 0.225,\n nan,\n nan,\n nan,\n nan,\n nan,\n nan,\n nan,\n nan,\n nan,\n nan,\n 0.443,\n 0.411,\n 0.286,\n 0.318,\n 0.193,\n nan,\n nan,\n nan,\n nan,\n nan,\n nan,\n nan,\n nan,\n nan,\n nan,\n nan,\n nan,\n nan,\n nan,\n nan,\n nan,\n nan,\n nan,\n nan,\n nan,\n 0.347,\n 0.472,\n 0.536,\n 0.254,\n 0.379,\n 0.504,\n 0.565,\n nan,\n nan,\n nan,\n nan,\n nan,\n nan,\n nan,\n nan,\n nan,\n nan,\n 0.222,\n 0.323,\n nan,\n nan,\n nan,\n nan,\n nan,\n nan,\n nan,\n nan,\n nan,\n 0.408,\n 0.315,\n 0.283,\n 0.44,\n 0.19,\n nan,\n nan,\n nan,\n nan,\n nan,\n nan,\n nan,\n nan,\n nan,\n ...}"
     },
     "execution_count": 5,
     "metadata": {},
     "output_type": "execute_result"
    }
   ],
   "source": [
    "set(gdb1.LintFraction.tolist())"
   ],
   "metadata": {
    "collapsed": false,
    "pycharm": {
     "name": "#%%\n"
    }
   }
  },
  {
   "cell_type": "code",
   "execution_count": 4,
   "metadata": {
    "tags": [
     "remove-input"
    ]
   },
   "outputs": [
    {
     "name": "stdout",
     "output_type": "stream",
     "text": [
      "<class 'pandas.core.frame.DataFrame'>\n",
      "RangeIndex: 43474 entries, 0 to 43473\n",
      "Data columns (total 40 columns):\n",
      " #   Column              Non-Null Count  Dtype  \n",
      "---  ------              --------------  -----  \n",
      " 0   OBJECTID            43474 non-null  int64  \n",
      " 1   LocationName        43474 non-null  object \n",
      " 2   LatLong             43474 non-null  object \n",
      " 3   Latitude            43474 non-null  float64\n",
      " 4   Longitude           43474 non-null  float64\n",
      " 5   City                29623 non-null  object \n",
      " 6   County              43474 non-null  object \n",
      " 7   State               43474 non-null  object \n",
      " 8   Name                43474 non-null  object \n",
      " 9   TestType            43474 non-null  object \n",
      " 10  EntryNumber         43474 non-null  int64  \n",
      " 11  Brand               43474 non-null  object \n",
      " 12  Trait               43473 non-null  object \n",
      " 13  Product             43474 non-null  object \n",
      " 14  Soil                32971 non-null  object \n",
      " 15  Tillage             32971 non-null  object \n",
      " 16  PlantingDate        11914 non-null  float64\n",
      " 17  HarvestDate         11743 non-null  object \n",
      " 18  ValuePerac          43474 non-null  float64\n",
      " 19  SeedingRatePerAcre  836 non-null    float64\n",
      " 20  PercentBollOpened   1235 non-null   float64\n",
      " 21  StormTolerance      595 non-null    float64\n",
      " 22  Yield               43474 non-null  int64  \n",
      " 23  Elongation          11341 non-null  float64\n",
      " 24  HVIColor            43474 non-null  int64  \n",
      " 25  Leaf                43474 non-null  int64  \n",
      " 26  Length              38837 non-null  float64\n",
      " 27  LintFraction        42391 non-null  float64\n",
      " 28  LoanValue           38761 non-null  float64\n",
      " 29  Mic                 39394 non-null  float64\n",
      " 30  Strength            39364 non-null  float64\n",
      " 31  UI                  39330 non-null  float64\n",
      " 32  Turnout             42391 non-null  float64\n",
      " 33  GrossIncome         43474 non-null  float64\n",
      " 34  Irrigated           43474 non-null  object \n",
      " 35  IrrigationType      17429 non-null  object \n",
      " 36  Year                43474 non-null  int64  \n",
      " 37  ZIP Code            32971 non-null  float64\n",
      " 38  Test Result ID      43474 non-null  int64  \n",
      " 39  Test ID             43474 non-null  int64  \n",
      "dtypes: float64(17), int64(8), object(15)\n",
      "memory usage: 13.3+ MB\n"
     ]
    }
   ],
   "source": [
    "gdb1.info()"
   ]
  },
  {
   "cell_type": "markdown",
   "metadata": {},
   "source": [
    "This dataset contains 26 fields of various datatypes. In one of the next steps this field names will be alligned with various controlled vocabularies and ontologies. For this to be succesful the fieldnames need to be as expressive as it can be. "
   ]
  },
  {
   "cell_type": "code",
   "execution_count": 5,
   "metadata": {
    "pycharm": {
     "name": "#%%\n"
    },
    "tags": [
     "remove-input"
    ]
   },
   "outputs": [
    {
     "data": {
      "text/plain": "<pandas.io.formats.style.Styler at 0x12fe96dc0>",
      "text/html": "<style type=\"text/css\">\n</style>\n<table id=\"T_6cd93\">\n  <thead>\n    <tr>\n      <th class=\"blank level0\" >&nbsp;</th>\n      <th id=\"T_6cd93_level0_col0\" class=\"col_heading level0 col0\" >original_field</th>\n      <th id=\"T_6cd93_level0_col1\" class=\"col_heading level0 col1\" >prepared_field</th>\n      <th id=\"T_6cd93_level0_col2\" class=\"col_heading level0 col2\" >change</th>\n    </tr>\n  </thead>\n  <tbody>\n    <tr>\n      <th id=\"T_6cd93_level0_row0\" class=\"row_heading level0 row0\" >0</th>\n      <td id=\"T_6cd93_row0_col0\" class=\"data row0 col0\" >OBJECTID</td>\n      <td id=\"T_6cd93_row0_col1\" class=\"data row0 col1\" >OBJECTID</td>\n      <td id=\"T_6cd93_row0_col2\" class=\"data row0 col2\" ></td>\n    </tr>\n    <tr>\n      <th id=\"T_6cd93_level0_row1\" class=\"row_heading level0 row1\" >1</th>\n      <td id=\"T_6cd93_row1_col0\" class=\"data row1 col0\" >LocationName</td>\n      <td id=\"T_6cd93_row1_col1\" class=\"data row1 col1\" >LocationName</td>\n      <td id=\"T_6cd93_row1_col2\" class=\"data row1 col2\" ></td>\n    </tr>\n    <tr>\n      <th id=\"T_6cd93_level0_row2\" class=\"row_heading level0 row2\" >2</th>\n      <td id=\"T_6cd93_row2_col0\" class=\"data row2 col0\" >LatLong</td>\n      <td id=\"T_6cd93_row2_col1\" class=\"data row2 col1\" >LatLong</td>\n      <td id=\"T_6cd93_row2_col2\" class=\"data row2 col2\" ></td>\n    </tr>\n    <tr>\n      <th id=\"T_6cd93_level0_row3\" class=\"row_heading level0 row3\" >3</th>\n      <td id=\"T_6cd93_row3_col0\" class=\"data row3 col0\" >Latitude</td>\n      <td id=\"T_6cd93_row3_col1\" class=\"data row3 col1\" >Latitude</td>\n      <td id=\"T_6cd93_row3_col2\" class=\"data row3 col2\" ></td>\n    </tr>\n    <tr>\n      <th id=\"T_6cd93_level0_row4\" class=\"row_heading level0 row4\" >4</th>\n      <td id=\"T_6cd93_row4_col0\" class=\"data row4 col0\" >Longitude</td>\n      <td id=\"T_6cd93_row4_col1\" class=\"data row4 col1\" >Longitude</td>\n      <td id=\"T_6cd93_row4_col2\" class=\"data row4 col2\" ></td>\n    </tr>\n    <tr>\n      <th id=\"T_6cd93_level0_row5\" class=\"row_heading level0 row5\" >5</th>\n      <td id=\"T_6cd93_row5_col0\" class=\"data row5 col0\" >City</td>\n      <td id=\"T_6cd93_row5_col1\" class=\"data row5 col1\" >City</td>\n      <td id=\"T_6cd93_row5_col2\" class=\"data row5 col2\" ></td>\n    </tr>\n    <tr>\n      <th id=\"T_6cd93_level0_row6\" class=\"row_heading level0 row6\" >6</th>\n      <td id=\"T_6cd93_row6_col0\" class=\"data row6 col0\" >County</td>\n      <td id=\"T_6cd93_row6_col1\" class=\"data row6 col1\" >County</td>\n      <td id=\"T_6cd93_row6_col2\" class=\"data row6 col2\" ></td>\n    </tr>\n    <tr>\n      <th id=\"T_6cd93_level0_row7\" class=\"row_heading level0 row7\" >7</th>\n      <td id=\"T_6cd93_row7_col0\" class=\"data row7 col0\" >State</td>\n      <td id=\"T_6cd93_row7_col1\" class=\"data row7 col1\" >State</td>\n      <td id=\"T_6cd93_row7_col2\" class=\"data row7 col2\" ></td>\n    </tr>\n    <tr>\n      <th id=\"T_6cd93_level0_row8\" class=\"row_heading level0 row8\" >8</th>\n      <td id=\"T_6cd93_row8_col0\" class=\"data row8 col0\" >Name</td>\n      <td id=\"T_6cd93_row8_col1\" class=\"data row8 col1\" >Name</td>\n      <td id=\"T_6cd93_row8_col2\" class=\"data row8 col2\" ></td>\n    </tr>\n    <tr>\n      <th id=\"T_6cd93_level0_row9\" class=\"row_heading level0 row9\" >9</th>\n      <td id=\"T_6cd93_row9_col0\" class=\"data row9 col0\" >TestType</td>\n      <td id=\"T_6cd93_row9_col1\" class=\"data row9 col1\" >TestType</td>\n      <td id=\"T_6cd93_row9_col2\" class=\"data row9 col2\" ></td>\n    </tr>\n    <tr>\n      <th id=\"T_6cd93_level0_row10\" class=\"row_heading level0 row10\" >10</th>\n      <td id=\"T_6cd93_row10_col0\" class=\"data row10 col0\" >EntryNumber</td>\n      <td id=\"T_6cd93_row10_col1\" class=\"data row10 col1\" >EntryNumber</td>\n      <td id=\"T_6cd93_row10_col2\" class=\"data row10 col2\" ></td>\n    </tr>\n    <tr>\n      <th id=\"T_6cd93_level0_row11\" class=\"row_heading level0 row11\" >11</th>\n      <td id=\"T_6cd93_row11_col0\" class=\"data row11 col0\" >Brand</td>\n      <td id=\"T_6cd93_row11_col1\" class=\"data row11 col1\" >Brand</td>\n      <td id=\"T_6cd93_row11_col2\" class=\"data row11 col2\" ></td>\n    </tr>\n    <tr>\n      <th id=\"T_6cd93_level0_row12\" class=\"row_heading level0 row12\" >12</th>\n      <td id=\"T_6cd93_row12_col0\" class=\"data row12 col0\" >Trait</td>\n      <td id=\"T_6cd93_row12_col1\" class=\"data row12 col1\" >Trait</td>\n      <td id=\"T_6cd93_row12_col2\" class=\"data row12 col2\" ></td>\n    </tr>\n    <tr>\n      <th id=\"T_6cd93_level0_row13\" class=\"row_heading level0 row13\" >13</th>\n      <td id=\"T_6cd93_row13_col0\" class=\"data row13 col0\" >Product</td>\n      <td id=\"T_6cd93_row13_col1\" class=\"data row13 col1\" >Product</td>\n      <td id=\"T_6cd93_row13_col2\" class=\"data row13 col2\" ></td>\n    </tr>\n    <tr>\n      <th id=\"T_6cd93_level0_row14\" class=\"row_heading level0 row14\" >14</th>\n      <td id=\"T_6cd93_row14_col0\" class=\"data row14 col0\" >Soil</td>\n      <td id=\"T_6cd93_row14_col1\" class=\"data row14 col1\" >Soil</td>\n      <td id=\"T_6cd93_row14_col2\" class=\"data row14 col2\" ></td>\n    </tr>\n    <tr>\n      <th id=\"T_6cd93_level0_row15\" class=\"row_heading level0 row15\" >15</th>\n      <td id=\"T_6cd93_row15_col0\" class=\"data row15 col0\" >Tillage</td>\n      <td id=\"T_6cd93_row15_col1\" class=\"data row15 col1\" >Tillage</td>\n      <td id=\"T_6cd93_row15_col2\" class=\"data row15 col2\" ></td>\n    </tr>\n    <tr>\n      <th id=\"T_6cd93_level0_row16\" class=\"row_heading level0 row16\" >16</th>\n      <td id=\"T_6cd93_row16_col0\" class=\"data row16 col0\" >PlantingDate</td>\n      <td id=\"T_6cd93_row16_col1\" class=\"data row16 col1\" >PlantingDate</td>\n      <td id=\"T_6cd93_row16_col2\" class=\"data row16 col2\" ></td>\n    </tr>\n    <tr>\n      <th id=\"T_6cd93_level0_row17\" class=\"row_heading level0 row17\" >17</th>\n      <td id=\"T_6cd93_row17_col0\" class=\"data row17 col0\" >HarvestDate</td>\n      <td id=\"T_6cd93_row17_col1\" class=\"data row17 col1\" >HarvestDate</td>\n      <td id=\"T_6cd93_row17_col2\" class=\"data row17 col2\" ></td>\n    </tr>\n    <tr>\n      <th id=\"T_6cd93_level0_row18\" class=\"row_heading level0 row18\" >18</th>\n      <td id=\"T_6cd93_row18_col0\" class=\"data row18 col0\" >ValuePerac</td>\n      <td id=\"T_6cd93_row18_col1\" class=\"data row18 col1\" >ValuePerac</td>\n      <td id=\"T_6cd93_row18_col2\" class=\"data row18 col2\" ></td>\n    </tr>\n    <tr>\n      <th id=\"T_6cd93_level0_row19\" class=\"row_heading level0 row19\" >19</th>\n      <td id=\"T_6cd93_row19_col0\" class=\"data row19 col0\" >SeedingRatePerAcre</td>\n      <td id=\"T_6cd93_row19_col1\" class=\"data row19 col1\" >SeedingRatePerAcre</td>\n      <td id=\"T_6cd93_row19_col2\" class=\"data row19 col2\" ></td>\n    </tr>\n    <tr>\n      <th id=\"T_6cd93_level0_row20\" class=\"row_heading level0 row20\" >20</th>\n      <td id=\"T_6cd93_row20_col0\" class=\"data row20 col0\" >PercentBollOpened</td>\n      <td id=\"T_6cd93_row20_col1\" class=\"data row20 col1\" >PercentBollOpened</td>\n      <td id=\"T_6cd93_row20_col2\" class=\"data row20 col2\" ></td>\n    </tr>\n    <tr>\n      <th id=\"T_6cd93_level0_row21\" class=\"row_heading level0 row21\" >21</th>\n      <td id=\"T_6cd93_row21_col0\" class=\"data row21 col0\" >StormTolerance</td>\n      <td id=\"T_6cd93_row21_col1\" class=\"data row21 col1\" >StormTolerance</td>\n      <td id=\"T_6cd93_row21_col2\" class=\"data row21 col2\" ></td>\n    </tr>\n    <tr>\n      <th id=\"T_6cd93_level0_row22\" class=\"row_heading level0 row22\" >22</th>\n      <td id=\"T_6cd93_row22_col0\" class=\"data row22 col0\" >Yield</td>\n      <td id=\"T_6cd93_row22_col1\" class=\"data row22 col1\" >Yield</td>\n      <td id=\"T_6cd93_row22_col2\" class=\"data row22 col2\" ></td>\n    </tr>\n    <tr>\n      <th id=\"T_6cd93_level0_row23\" class=\"row_heading level0 row23\" >23</th>\n      <td id=\"T_6cd93_row23_col0\" class=\"data row23 col0\" >Elongation</td>\n      <td id=\"T_6cd93_row23_col1\" class=\"data row23 col1\" >Elongation</td>\n      <td id=\"T_6cd93_row23_col2\" class=\"data row23 col2\" ></td>\n    </tr>\n    <tr>\n      <th id=\"T_6cd93_level0_row24\" class=\"row_heading level0 row24\" >24</th>\n      <td id=\"T_6cd93_row24_col0\" class=\"data row24 col0\" >HVIColor</td>\n      <td id=\"T_6cd93_row24_col1\" class=\"data row24 col1\" >HVIColor</td>\n      <td id=\"T_6cd93_row24_col2\" class=\"data row24 col2\" ></td>\n    </tr>\n    <tr>\n      <th id=\"T_6cd93_level0_row25\" class=\"row_heading level0 row25\" >25</th>\n      <td id=\"T_6cd93_row25_col0\" class=\"data row25 col0\" >Leaf</td>\n      <td id=\"T_6cd93_row25_col1\" class=\"data row25 col1\" >Leaf</td>\n      <td id=\"T_6cd93_row25_col2\" class=\"data row25 col2\" ></td>\n    </tr>\n    <tr>\n      <th id=\"T_6cd93_level0_row26\" class=\"row_heading level0 row26\" >26</th>\n      <td id=\"T_6cd93_row26_col0\" class=\"data row26 col0\" >Length</td>\n      <td id=\"T_6cd93_row26_col1\" class=\"data row26 col1\" >Length</td>\n      <td id=\"T_6cd93_row26_col2\" class=\"data row26 col2\" ></td>\n    </tr>\n    <tr>\n      <th id=\"T_6cd93_level0_row27\" class=\"row_heading level0 row27\" >27</th>\n      <td id=\"T_6cd93_row27_col0\" class=\"data row27 col0\" >LintFraction</td>\n      <td id=\"T_6cd93_row27_col1\" class=\"data row27 col1\" >LintFraction</td>\n      <td id=\"T_6cd93_row27_col2\" class=\"data row27 col2\" ></td>\n    </tr>\n    <tr>\n      <th id=\"T_6cd93_level0_row28\" class=\"row_heading level0 row28\" >28</th>\n      <td id=\"T_6cd93_row28_col0\" class=\"data row28 col0\" >LoanValue</td>\n      <td id=\"T_6cd93_row28_col1\" class=\"data row28 col1\" >LoanValue</td>\n      <td id=\"T_6cd93_row28_col2\" class=\"data row28 col2\" ></td>\n    </tr>\n    <tr>\n      <th id=\"T_6cd93_level0_row29\" class=\"row_heading level0 row29\" >29</th>\n      <td id=\"T_6cd93_row29_col0\" class=\"data row29 col0\" >Mic</td>\n      <td id=\"T_6cd93_row29_col1\" class=\"data row29 col1\" >Mic</td>\n      <td id=\"T_6cd93_row29_col2\" class=\"data row29 col2\" ></td>\n    </tr>\n    <tr>\n      <th id=\"T_6cd93_level0_row30\" class=\"row_heading level0 row30\" >30</th>\n      <td id=\"T_6cd93_row30_col0\" class=\"data row30 col0\" >Strength</td>\n      <td id=\"T_6cd93_row30_col1\" class=\"data row30 col1\" >Strength</td>\n      <td id=\"T_6cd93_row30_col2\" class=\"data row30 col2\" ></td>\n    </tr>\n    <tr>\n      <th id=\"T_6cd93_level0_row31\" class=\"row_heading level0 row31\" >31</th>\n      <td id=\"T_6cd93_row31_col0\" class=\"data row31 col0\" >UI</td>\n      <td id=\"T_6cd93_row31_col1\" class=\"data row31 col1\" >UI</td>\n      <td id=\"T_6cd93_row31_col2\" class=\"data row31 col2\" ></td>\n    </tr>\n    <tr>\n      <th id=\"T_6cd93_level0_row32\" class=\"row_heading level0 row32\" >32</th>\n      <td id=\"T_6cd93_row32_col0\" class=\"data row32 col0\" >Turnout</td>\n      <td id=\"T_6cd93_row32_col1\" class=\"data row32 col1\" >Turnout</td>\n      <td id=\"T_6cd93_row32_col2\" class=\"data row32 col2\" ></td>\n    </tr>\n    <tr>\n      <th id=\"T_6cd93_level0_row33\" class=\"row_heading level0 row33\" >33</th>\n      <td id=\"T_6cd93_row33_col0\" class=\"data row33 col0\" >GrossIncome</td>\n      <td id=\"T_6cd93_row33_col1\" class=\"data row33 col1\" >GrossIncome</td>\n      <td id=\"T_6cd93_row33_col2\" class=\"data row33 col2\" ></td>\n    </tr>\n    <tr>\n      <th id=\"T_6cd93_level0_row34\" class=\"row_heading level0 row34\" >34</th>\n      <td id=\"T_6cd93_row34_col0\" class=\"data row34 col0\" >Irrigated</td>\n      <td id=\"T_6cd93_row34_col1\" class=\"data row34 col1\" >Irrigated</td>\n      <td id=\"T_6cd93_row34_col2\" class=\"data row34 col2\" ></td>\n    </tr>\n    <tr>\n      <th id=\"T_6cd93_level0_row35\" class=\"row_heading level0 row35\" >35</th>\n      <td id=\"T_6cd93_row35_col0\" class=\"data row35 col0\" >IrrigationType</td>\n      <td id=\"T_6cd93_row35_col1\" class=\"data row35 col1\" >IrrigationType</td>\n      <td id=\"T_6cd93_row35_col2\" class=\"data row35 col2\" ></td>\n    </tr>\n    <tr>\n      <th id=\"T_6cd93_level0_row36\" class=\"row_heading level0 row36\" >36</th>\n      <td id=\"T_6cd93_row36_col0\" class=\"data row36 col0\" >Year</td>\n      <td id=\"T_6cd93_row36_col1\" class=\"data row36 col1\" >Year</td>\n      <td id=\"T_6cd93_row36_col2\" class=\"data row36 col2\" ></td>\n    </tr>\n    <tr>\n      <th id=\"T_6cd93_level0_row37\" class=\"row_heading level0 row37\" >37</th>\n      <td id=\"T_6cd93_row37_col0\" class=\"data row37 col0\" >ZIP Code</td>\n      <td id=\"T_6cd93_row37_col1\" class=\"data row37 col1\" >ZIP Code</td>\n      <td id=\"T_6cd93_row37_col2\" class=\"data row37 col2\" ></td>\n    </tr>\n    <tr>\n      <th id=\"T_6cd93_level0_row38\" class=\"row_heading level0 row38\" >38</th>\n      <td id=\"T_6cd93_row38_col0\" class=\"data row38 col0\" >Test Result ID</td>\n      <td id=\"T_6cd93_row38_col1\" class=\"data row38 col1\" >Test Result ID</td>\n      <td id=\"T_6cd93_row38_col2\" class=\"data row38 col2\" ></td>\n    </tr>\n    <tr>\n      <th id=\"T_6cd93_level0_row39\" class=\"row_heading level0 row39\" >39</th>\n      <td id=\"T_6cd93_row39_col0\" class=\"data row39 col0\" >Test ID</td>\n      <td id=\"T_6cd93_row39_col1\" class=\"data row39 col1\" >Test ID</td>\n      <td id=\"T_6cd93_row39_col2\" class=\"data row39 col2\" ></td>\n    </tr>\n  </tbody>\n</table>\n"
     },
     "execution_count": 5,
     "metadata": {},
     "output_type": "execute_result"
    }
   ],
   "source": [
    "def show_difference(row):\n",
    "    highlight = 'background-color: yellow;'\n",
    "    default = ''\n",
    "    if row['original_field'] != row['prepared_field']:\n",
    "        return [default, highlight]\n",
    "    else:\n",
    "        return [default, default]\n",
    "    \n",
    "def strip_check(row):\n",
    "    if row['original_field'] != row['prepared_field']:\n",
    "        row[\"change\"] = \"remove trailing spaces\"\n",
    "        \n",
    "def abbreviations(row):\n",
    "    if row['original_field'] != row['prepared_field']:\n",
    "        if row[\"change\"] == \"\":\n",
    "            row[\"change\"] = \"resolved abbreviations\"\n",
    "            \n",
    "def removechoices(row):\n",
    "    if row['original_field'] != row['prepared_field']:\n",
    "        if row[\"change\"] == \"\":\n",
    "            row[\"change\"] = \"removed choices\"\n",
    "\n",
    "df = pd.DataFrame(columns=[\"original_field\", \"prepared_field\", \"change\"])\n",
    "for column in gdb1.columns: \n",
    "    df.loc[len(df.index)] = [column, column.strip(), \"\"]\n",
    "    \n",
    "df.apply(strip_check, axis=1)\n",
    "    \n",
    "df['prepared_field'] = df['prepared_field'].str.replace('adj','adjuvant')\n",
    "df['prepared_field'] = df['prepared_field'].str.replace('months OS','months overall survival')\n",
    "df['prepared_field'] = df['prepared_field'].str.replace('PP','pseudo-progression')\n",
    "df['prepared_field'] = df['prepared_field'].str.replace('PFS','progression-free survival')\n",
    "\n",
    "df.apply(abbreviations, axis=1)\n",
    "         \n",
    "df['prepared_field'] = df['prepared_field'].str.replace('(1=yes 0=no)','', regex=False)\n",
    "df.apply(removechoices, axis=1)\n",
    " \n",
    "df.style.set_properties(**{'text-align': 'left'})\n",
    "df.style.apply(show_difference, subset=['original_field', 'prepared_field'], axis=1)"
   ]
  },
  {
   "cell_type": "markdown",
   "metadata": {
    "pycharm": {
     "name": "#%% md\n"
    }
   },
   "source": [
    "In this chapter we have reviewed and possibly cleaned the source data. In the next chapter these terms will be use to identify IRIs that unambiguously point to the definitions of these field labels. In this stage of the project we need to be a bit creative here. Some crucial information such as conditionals or units have been removed, but these are needed in the semantic models that will be derived.\n",
    "\n",
    "Moving forward the project should design a common tabular format that, next to field labels, also captures these conditionals, units and cardinality. \n",
    "\n",
    "Eventually this book should contain a chapter that describes this tabular format. \n",
    "\n",
    "Eventually the steps described in this chapter will be redundant. Moving forward performers in the different PDAs, ideally will build on a predefined tabular format where the field names are selected from the provided codebook. \n",
    "\n",
    "## NALT shapes and  codebook\n",
    "The DT codebook will be a listing of selected field names. Data curators will be able to select field names from this codebook. Non-existing field names can be requested. \n"
   ]
  }
 ],
 "metadata": {
  "celltoolbar": "Tags",
  "kernelspec": {
   "display_name": "Python 3 (ipykernel)",
   "language": "python",
   "name": "python3"
  },
  "language_info": {
   "codemirror_mode": {
    "name": "ipython",
    "version": 3
   },
   "file_extension": ".py",
   "mimetype": "text/x-python",
   "name": "python",
   "nbconvert_exporter": "python",
   "pygments_lexer": "ipython3",
   "version": "3.8.9"
  }
 },
 "nbformat": 4,
 "nbformat_minor": 1
}