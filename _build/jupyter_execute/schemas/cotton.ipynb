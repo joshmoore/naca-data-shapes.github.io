{
 "cells": [
  {
   "cell_type": "code",
   "execution_count": 1,
   "metadata": {
    "collapsed": true
   },
   "outputs": [
    {
     "name": "stdout",
     "output_type": "stream",
     "text": [
      "Defaulting to user installation because normal site-packages is not writeable\r\n"
     ]
    },
    {
     "name": "stdout",
     "output_type": "stream",
     "text": [
      "Requirement already satisfied: shexviz in /home/labra/.local/lib/python3.10/site-packages (0.1.2)\r\n",
      "Requirement already satisfied: graphviz in /home/labra/.local/lib/python3.10/site-packages (from shexviz) (0.20.1)\r\n",
      "Requirement already satisfied: pyshex in /home/labra/.local/lib/python3.10/site-packages (from shexviz) (0.8.1)\r\n",
      "Requirement already satisfied: ShExJSG in /home/labra/.local/lib/python3.10/site-packages (from shexviz) (0.8.2)\r\n",
      "Requirement already satisfied: sparqlwrapper>=1.8.5 in /home/labra/.local/lib/python3.10/site-packages (from pyshex->shexviz) (2.0.0)\r\n",
      "Requirement already satisfied: cfgraph>=0.2.1 in /home/labra/.local/lib/python3.10/site-packages (from pyshex->shexviz) (0.2.1)\r\n",
      "Requirement already satisfied: pyshexc==0.9.1 in /home/labra/.local/lib/python3.10/site-packages (from pyshex->shexviz) (0.9.1)\r\n",
      "Requirement already satisfied: chardet in /usr/lib/python3/dist-packages (from pyshex->shexviz) (4.0.0)\r\n",
      "Requirement already satisfied: rdflib-shim in /home/labra/.local/lib/python3.10/site-packages (from pyshex->shexviz) (1.0.3)\r\n",
      "Requirement already satisfied: sparqlslurper>=0.5.1 in /home/labra/.local/lib/python3.10/site-packages (from pyshex->shexviz) (0.5.1)\r\n",
      "Requirement already satisfied: requests>=2.22.0 in /usr/lib/python3/dist-packages (from pyshex->shexviz) (2.25.1)\r\n",
      "Requirement already satisfied: urllib3 in /usr/lib/python3/dist-packages (from pyshex->shexviz) (1.26.5)\r\n",
      "Requirement already satisfied: jsonasobj>=1.2.1 in /home/labra/.local/lib/python3.10/site-packages (from pyshexc==0.9.1->pyshex->shexviz) (1.3.1)\r\n",
      "Requirement already satisfied: antlr4-python3-runtime~=4.9.3 in /home/labra/.local/lib/python3.10/site-packages (from pyshexc==0.9.1->pyshex->shexviz) (4.9.3)\r\n",
      "Requirement already satisfied: pyjsg>=0.11.10 in /home/labra/.local/lib/python3.10/site-packages (from pyshexc==0.9.1->pyshex->shexviz) (0.11.10)\r\n"
     ]
    },
    {
     "name": "stdout",
     "output_type": "stream",
     "text": [
      "Requirement already satisfied: rdflib>=0.4.2 in /home/labra/.local/lib/python3.10/site-packages (from cfgraph>=0.2.1->pyshex->shexviz) (6.3.2)\r\n",
      "Requirement already satisfied: rdflib-jsonld==0.6.1 in /home/labra/.local/lib/python3.10/site-packages (from rdflib-shim->pyshex->shexviz) (0.6.1)\r\n",
      "Requirement already satisfied: pyparsing<4,>=2.1.0 in /usr/lib/python3/dist-packages (from rdflib>=0.4.2->cfgraph>=0.2.1->pyshex->shexviz) (2.4.7)\r\n",
      "Requirement already satisfied: isodate<0.7.0,>=0.6.0 in /home/labra/.local/lib/python3.10/site-packages (from rdflib>=0.4.2->cfgraph>=0.2.1->pyshex->shexviz) (0.6.1)\r\n",
      "Requirement already satisfied: six in /usr/lib/python3/dist-packages (from isodate<0.7.0,>=0.6.0->rdflib>=0.4.2->cfgraph>=0.2.1->pyshex->shexviz) (1.16.0)\r\n"
     ]
    }
   ],
   "source": [
    "!pip install shexviz"
   ]
  },
  {
   "cell_type": "markdown",
   "metadata": {
    "collapsed": false,
    "pycharm": {
     "name": "#%% md\n"
    }
   },
   "source": [
    "# Production Shape\n",
    "* OBJECTID\n",
    "* Date of planting\n",
    "* Date of harvest\n",
    "* SeedingRatePerAcre\n",
    "* PercentBallOpened\n"
   ]
  },
  {
   "cell_type": "code",
   "execution_count": 2,
   "metadata": {
    "collapsed": false,
    "pycharm": {
     "name": "#%%\n"
    }
   },
   "outputs": [
    {
     "ename": "ModuleNotFoundError",
     "evalue": "No module named 'tomli'",
     "output_type": "error",
     "traceback": [
      "\u001b[0;31m---------------------------------------------------------------------------\u001b[0m",
      "\u001b[0;31mModuleNotFoundError\u001b[0m                       Traceback (most recent call last)",
      "File \u001b[0;32m~/.local/lib/python3.10/site-packages/shexviz/__init__.py:4\u001b[0m\n\u001b[1;32m      3\u001b[0m \u001b[38;5;28;01mtry\u001b[39;00m:\n\u001b[0;32m----> 4\u001b[0m     \u001b[38;5;28;01mimport\u001b[39;00m \u001b[38;5;21;01mtomllib\u001b[39;00m\n\u001b[1;32m      5\u001b[0m \u001b[38;5;28;01mexcept\u001b[39;00m \u001b[38;5;167;01mModuleNotFoundError\u001b[39;00m:\n",
      "\u001b[0;31mModuleNotFoundError\u001b[0m: No module named 'tomllib'",
      "\nDuring handling of the above exception, another exception occurred:\n",
      "\u001b[0;31mModuleNotFoundError\u001b[0m                       Traceback (most recent call last)",
      "Cell \u001b[0;32mIn[2], line 1\u001b[0m\n\u001b[0;32m----> 1\u001b[0m \u001b[38;5;28;01mfrom\u001b[39;00m \u001b[38;5;21;01mshexviz\u001b[39;00m \u001b[38;5;28;01mimport\u001b[39;00m shex2dot\n\u001b[1;32m      2\u001b[0m f \u001b[38;5;241m=\u001b[39m \u001b[38;5;28mopen\u001b[39m(\u001b[38;5;124m\"\u001b[39m\u001b[38;5;124mcotton/productionShape.shex\u001b[39m\u001b[38;5;124m\"\u001b[39m, \u001b[38;5;124m\"\u001b[39m\u001b[38;5;124mr\u001b[39m\u001b[38;5;124m\"\u001b[39m)\n\u001b[1;32m      3\u001b[0m shex \u001b[38;5;241m=\u001b[39m f\u001b[38;5;241m.\u001b[39mread()\n",
      "File \u001b[0;32m~/.local/lib/python3.10/site-packages/shexviz/__init__.py:6\u001b[0m\n\u001b[1;32m      4\u001b[0m     \u001b[38;5;28;01mimport\u001b[39;00m \u001b[38;5;21;01mtomllib\u001b[39;00m\n\u001b[1;32m      5\u001b[0m \u001b[38;5;28;01mexcept\u001b[39;00m \u001b[38;5;167;01mModuleNotFoundError\u001b[39;00m:\n\u001b[0;32m----> 6\u001b[0m     \u001b[38;5;28;01mimport\u001b[39;00m \u001b[38;5;21;01mtomli\u001b[39;00m \u001b[38;5;28;01mas\u001b[39;00m \u001b[38;5;21;01mtomllib\u001b[39;00m\n",
      "\u001b[0;31mModuleNotFoundError\u001b[0m: No module named 'tomli'"
     ]
    }
   ],
   "source": [
    "from shexviz import shex2dot\n",
    "f = open(\"cotton/productionShape.shex\", \"r\")\n",
    "shex = f.read()\n",
    "\n",
    "shex2dot.shex2dot(shex, \"test\").view()"
   ]
  },
  {
   "cell_type": "code",
   "execution_count": null,
   "metadata": {
    "collapsed": false,
    "pycharm": {
     "name": "#%%\n"
    }
   },
   "outputs": [],
   "source": [
    "OBJECTID\n",
    "Date of planting\n",
    "Date of harvest\n",
    "ValuePerac\n",
    "SeedingRatePerAcre\n",
    "PercentBallOpened\n"
   ]
  }
 ],
 "metadata": {
  "kernelspec": {
   "display_name": "Python 3",
   "language": "python",
   "name": "python3"
  },
  "language_info": {
   "codemirror_mode": {
    "name": "ipython",
    "version": 3
   },
   "file_extension": ".py",
   "mimetype": "text/x-python",
   "name": "python",
   "nbconvert_exporter": "python",
   "pygments_lexer": "ipython3",
   "version": "3.10.6"
  }
 },
 "nbformat": 4,
 "nbformat_minor": 0
}